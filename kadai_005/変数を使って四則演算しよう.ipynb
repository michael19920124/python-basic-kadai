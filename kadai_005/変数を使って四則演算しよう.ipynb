{
  "nbformat": 4,
  "nbformat_minor": 0,
  "metadata": {
    "colab": {
      "provenance": []
    },
    "kernelspec": {
      "name": "python3",
      "display_name": "Python 3"
    },
    "language_info": {
      "name": "python"
    }
  },
  "cells": [
    {
      "cell_type": "markdown",
      "source": [
        "下記の台形の面積の計算結果を出力するプログラムを記述してください。\n",
        "出力結果は「◯◯cm²」となるように単位をつけてください。\n",
        "\n",
        "上辺：10cm\n",
        "下辺：20cm\n",
        "高さ：5cm\n",
        "\n",
        "公式：台形の面積 =（上辺＋下辺）× 高さ ÷ 2\n"
      ],
      "metadata": {
        "id": "4wucuRho6x9i"
      }
    },
    {
      "cell_type": "code",
      "execution_count": 2,
      "metadata": {
        "colab": {
          "base_uri": "https://localhost:8080/"
        },
        "id": "4-6HDKrC6kcz",
        "outputId": "301b23f3-00d8-4264-97e5-b4993509ce9e"
      },
      "outputs": [
        {
          "output_type": "stream",
          "name": "stdout",
          "text": [
            "75.0\n"
          ]
        }
      ],
      "source": [
        "upper_side = 10\n",
        "bottom_side = 20\n",
        "height = 5\n",
        "\n",
        "print((upper_side + bottom_side) * height / 2)"
      ]
    }
  ]
}