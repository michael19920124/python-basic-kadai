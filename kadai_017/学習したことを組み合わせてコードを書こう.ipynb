{
  "nbformat": 4,
  "nbformat_minor": 0,
  "metadata": {
    "colab": {
      "provenance": []
    },
    "kernelspec": {
      "name": "python3",
      "display_name": "Python 3"
    },
    "language_info": {
      "name": "python"
    }
  },
  "cells": [
    {
      "cell_type": "code",
      "execution_count": 9,
      "metadata": {
        "colab": {
          "base_uri": "https://localhost:8080/"
        },
        "id": "f8xg8jy1hZR2",
        "outputId": "cbce3d65-c349-457f-85d1-5046c0a0eb4f"
      },
      "outputs": [
        {
          "output_type": "stream",
          "name": "stdout",
          "text": [
            "大人\n",
            "子供\n",
            "大人\n",
            "大人\n"
          ]
        }
      ],
      "source": [
        "class Human:\n",
        "  def __init__(self, name, age):\n",
        "    self.name = name\n",
        "    self.age = age\n",
        "\n",
        "  def check_adult(self):\n",
        "    if self.age >= 20:\n",
        "      print(\"大人\")\n",
        "    else:\n",
        "      print(\"子供\")\n",
        "\n",
        "people = [\n",
        "  Human(\"侍太郎\", 30),\n",
        "  Human(\"侍花子\", 15),\n",
        "  Human(\"侍次郎\", 20),\n",
        "  Human(\"侍三郎\", 60)\n",
        "]\n",
        "\n",
        "for human in people:\n",
        "  human.check_adult()"
      ]
    }
  ]
}