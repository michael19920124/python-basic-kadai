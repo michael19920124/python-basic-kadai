{
  "nbformat": 4,
  "nbformat_minor": 0,
  "metadata": {
    "colab": {
      "provenance": []
    },
    "kernelspec": {
      "name": "python3",
      "display_name": "Python 3"
    },
    "language_info": {
      "name": "python"
    }
  },
  "cells": [
    {
      "cell_type": "code",
      "execution_count": 3,
      "metadata": {
        "colab": {
          "base_uri": "https://localhost:8080/"
        },
        "id": "BuVQLJ5qSJhu",
        "outputId": "35b3d147-7af9-440b-d076-baf79e7b2f8c"
      },
      "outputs": [
        {
          "output_type": "execute_result",
          "data": {
            "text/plain": [
              "110.0"
            ]
          },
          "metadata": {},
          "execution_count": 3
        }
      ],
      "source": [
        "def cal_product(price, tax):\n",
        "  total = price + price * tax\n",
        "  return(total)\n",
        "\n",
        "cal_product(100, 0.1)"
      ]
    }
  ]
}