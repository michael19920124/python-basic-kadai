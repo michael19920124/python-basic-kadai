{
  "nbformat": 4,
  "nbformat_minor": 0,
  "metadata": {
    "colab": {
      "provenance": []
    },
    "kernelspec": {
      "name": "python3",
      "display_name": "Python 3"
    },
    "language_info": {
      "name": "python"
    }
  },
  "cells": [
    {
      "cell_type": "code",
      "execution_count": 2,
      "metadata": {
        "colab": {
          "base_uri": "https://localhost:8080/"
        },
        "id": "BuVQLJ5qSJhu",
        "outputId": "a61d2794-790e-4b09-b7f0-b90b5b6c2307"
      },
      "outputs": [
        {
          "output_type": "stream",
          "name": "stdout",
          "text": [
            "110.0\n"
          ]
        }
      ],
      "source": [
        "def cal_product(price, tax):\n",
        "  total = price + price * tax\n",
        "  print(total)\n",
        "\n",
        "cal_product(100, 0.1)"
      ]
    }
  ]
}